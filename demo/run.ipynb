{
 "cells": [
  {
   "cell_type": "code",
   "execution_count": 1,
   "metadata": {},
   "outputs": [
    {
     "name": "stderr",
     "output_type": "stream",
     "text": [
      "/opt/conda/envs/diffinv/lib/python3.9/site-packages/tqdm/auto.py:21: TqdmWarning: IProgress not found. Please update jupyter and ipywidgets. See https://ipywidgets.readthedocs.io/en/stable/user_install.html\n",
      "  from .autonotebook import tqdm as notebook_tqdm\n"
     ]
    }
   ],
   "source": [
    "%load_ext autoreload\n",
    "%autoreload 2\n",
    "\n",
    "import cv2\n",
    "import yaml\n",
    "from tqdm import tqdm\n",
    "from pathlib import Path\n",
    "import pandas as pd\n",
    "import numpy as np\n",
    "from IPython.display import Image, display\n",
    "from typing import List\n",
    "import gradio as gr"
   ]
  },
  {
   "cell_type": "code",
   "execution_count": 44,
   "metadata": {},
   "outputs": [
    {
     "name": "stdout",
     "output_type": "stream",
     "text": [
      "Running on local URL:  http://127.0.0.1:7901\n",
      "Running on public URL: https://08867b678aab7db5a9.gradio.live\n",
      "\n",
      "This share link expires in 72 hours. For free permanent hosting and GPU upgrades, run `gradio deploy` from Terminal to deploy to Spaces (https://huggingface.co/spaces)\n"
     ]
    },
    {
     "data": {
      "text/html": [
       "<div><iframe src=\"https://08867b678aab7db5a9.gradio.live\" width=\"100%\" height=\"500\" allow=\"autoplay; camera; microphone; clipboard-read; clipboard-write;\" frameborder=\"0\" allowfullscreen></iframe></div>"
      ],
      "text/plain": [
       "<IPython.core.display.HTML object>"
      ]
     },
     "metadata": {},
     "output_type": "display_data"
    },
    {
     "data": {
      "text/plain": []
     },
     "execution_count": 44,
     "metadata": {},
     "output_type": "execute_result"
    },
    {
     "name": "stderr",
     "output_type": "stream",
     "text": [
      "Loading pipeline components...: 100%|██████████| 7/7 [00:01<00:00,  4.43it/s]\n"
     ]
    }
   ],
   "source": [
    "import torch\n",
    "torch.set_grad_enabled(False)\n",
    "\n",
    "from demo.run import EditorManager\n",
    "\n",
    "\n",
    "editor_manager = EditorManager()\n",
    "\n",
    "\n",
    "models = [\n",
    "    (\"CompVis/stable-diffusion-v1-4\", \"SD-1.4\"),\n",
    "]\n",
    "\n",
    "inverters = [\n",
    "    (\"diffinv\", \"Diffusion inversion\"),\n",
    "    (\"nti\", \"Null-text inversion\"),\n",
    "    (\"npi\", \"Negative prompt inversion\"),\n",
    "    (\"proxnpi\", \"Proximal negative prompt inversion\"),\n",
    "    (\"edict\", \"EDICT\"),\n",
    "    (\"ddpminv\", \"DDPM inversion\"),\n",
    "]\n",
    "\n",
    "\n",
    "editors = [\n",
    "    (\"simple\", \"Simple\"),\n",
    "    (\"ptp\", \"Prompt-to-prompt\"),\n",
    "    (\"masactrl\", \"MasaControl\"),\n",
    "    (\"pnp\", \"Plug-and-play\"),\n",
    "    (\"pix2pix_zero\", \"Pix2pix zero\"),\n",
    "]\n",
    "\n",
    "\n",
    "def name_to_value(lst, name):\n",
    "    out = next((v for v, n in lst if n == name), None)\n",
    "    assert out is not None, f\"{name} not found in {lst}\"\n",
    "    return out\n",
    "\n",
    "\n",
    "def value_to_name(lst, value):\n",
    "    out = next((n for v, n in lst if v == value), None)\n",
    "    assert out is not None, f\"{value} not found {lst}\"\n",
    "    return out\n",
    "\n",
    "\n",
    "def get_model_choices():\n",
    "    return list(zip(*models))[1]\n",
    "\n",
    "\n",
    "def get_inverter_choices(model):\n",
    "    if model is None:\n",
    "        return []\n",
    "\n",
    "    model = name_to_value(models, model)\n",
    "  \n",
    "    if model in (\"CompVis/stable-diffusion-v1-4\", ):\n",
    "        out = [\"diffinv\", \"nti\", \"npi\", \"proxnpi\", \"edict\", \"ddpminv\"]\n",
    "    else:\n",
    "        out = []\n",
    "\n",
    "    return [value_to_name(inverters, val) for val in out]\n",
    "\n",
    "\n",
    "def get_editor_choices(inverter):\n",
    "    if inverter is None:\n",
    "        return []\n",
    "    \n",
    "    inverter = name_to_value(inverters, inverter) if inverter is not None else None\n",
    "\n",
    "    out = [\"simple\", \"ptp\", \"masactrl\", \"pnp\", \"pix2pix_zero\"]\n",
    "\n",
    "    return [value_to_name(editors, val) for val in out]\n",
    "    \n",
    "\n",
    "def run(cfg):\n",
    "    cfg[\"model.type\"] = name_to_value(models, cfg[\"model.type\"])\n",
    "    cfg[\"inverter.type\"] = name_to_value(inverters, cfg[\"inverter.type\"])\n",
    "    cfg[\"editor.type\"] = name_to_value(editors, cfg[\"editor.type\"])\n",
    "\n",
    "    edit_res = editor_manager.run(cfg)\n",
    "    \n",
    "    return edit_res[\"edit_image\"]\n",
    "\n",
    "\n",
    "def update_inversion_config_visibility(names, cat):\n",
    "    cat = name_to_value(inverters, cat)\n",
    "    return [gr.update(visible=name.startswith(f\"inverter.methods.{cat}.\")) for name in names]\n",
    "\n",
    "\n",
    "default_values = {\n",
    "    \"model\": value_to_name(models, \"CompVis/stable-diffusion-v1-4\"),\n",
    "    \"inverter\": value_to_name(inverters, \"diffinv\"),\n",
    "    \"editor\": value_to_name(editors, \"simple\"),\n",
    "}\n",
    "\n",
    "# TODO: add gallery with old images\n",
    "\n",
    "# TODO: auto generate prompt and fill textbox\n",
    "with gr.Blocks() as demo:\n",
    "    inputs = {}\n",
    "    outputs = {}\n",
    "\n",
    "    with gr.Row():\n",
    "        inputs[\"edit_cfg.source_image\"] = gr.Image(label=\"Input\", value=\"test/data/gnochi_mirror_sq.png\", width=512, height=512)\n",
    "        outputs[\"edit_image\"] = gr.Image(label=\"Output\", width=512, height=512)\n",
    "\n",
    "    with gr.Row():\n",
    "        with gr.Column():\n",
    "            inputs[\"editor.type\"] = gr.Dropdown(label=\"Edit method\", choices=get_editor_choices(default_values[\"inverter\"]), value=default_values[\"editor\"], interactive=True)\n",
    "            inputs[\"edit_cfg.source_prompt\"] = gr.Textbox(label=\"Source prompt\", value=\"a cat sitting next to a mirror\")\n",
    "            inputs[\"edit_cfg.target_prompt\"] = gr.Textbox(label=\"Target prompt\", value=\"a tiger sitting next to a mirror\")\n",
    "\n",
    "        with gr.Column():\n",
    "            with gr.Row():\n",
    "                inputs[\"model.type\"] = gr.Dropdown(label=\"Model\", choices=get_model_choices(), value=default_values[\"model\"])\n",
    "\n",
    "            with gr.Row():\n",
    "                inputs[\"inverter.type\"] = gr.Dropdown(label=\"Inversion method\", choices=get_inverter_choices(default_values[\"model\"]), value=default_values[\"inverter\"], interactive=True)\n",
    "\n",
    "                for inverter, inverter_name in inverters:\n",
    "                    visible = default_values[\"inverter\"] == inverter_name\n",
    "                    inputs[f\"inverter.methods.{inverter}.num_inference_steps\"] = gr.Number(label=\"Steps\", value=50, precision=0, visible=visible)\n",
    "                    inputs[f\"inverter.methods.{inverter}.guidance_scale_fwd\"] = gr.Number(label=\"Forward CFG scale\", value=1.0, visible=visible)\n",
    "                    inputs[f\"inverter.methods.{inverter}.guidance_scale_bwd\"] = gr.Number(label=\"Backward CFG scale\", value=7.5, visible=visible)\n",
    "                    inputs[f\"inverter.methods.{inverter}.scheduler\"] = gr.Dropdown(label=\"Scheduler\", choices=[\"ddim\", \"dpm\"], value=\"ddim\", visible=visible)\n",
    "    \n",
    "    inputs[\"model.type\"].change(lambda model: gr.update(choices=get_inverter_choices(model)), inputs=inputs[\"model.type\"], outputs=inputs[\"inverter.type\"])\n",
    "    inputs[\"inverter.type\"].change(lambda inverter: gr.update(choices=get_editor_choices(inverter)), inputs=inputs[\"inverter.type\"], outputs=inputs[\"editor.type\"])\n",
    "\n",
    "    inversion_inputs = {k: v for k, v in inputs.items() if k.startswith(\"inverter.methods.\")}\n",
    "    inputs[\"inverter.type\"].change(lambda value: update_inversion_config_visibility(list(inversion_inputs.keys()), value), inputs=inputs[\"inverter.type\"], outputs=list(inversion_inputs.values()))\n",
    "\n",
    "    edit_btn = gr.Button(\"Edit\")\n",
    "    edit_btn.click(fn=lambda *values: run(dict(zip(inputs.keys(), values))), inputs=list(inputs.values()), outputs=outputs[\"edit_image\"])\n",
    "\n",
    "demo.launch(share=True)"
   ]
  },
  {
   "cell_type": "code",
   "execution_count": null,
   "metadata": {},
   "outputs": [],
   "source": []
  }
 ],
 "metadata": {
  "kernelspec": {
   "display_name": "Python 3",
   "language": "python",
   "name": "python3"
  },
  "language_info": {
   "codemirror_mode": {
    "name": "ipython",
    "version": 3
   },
   "file_extension": ".py",
   "mimetype": "text/x-python",
   "name": "python",
   "nbconvert_exporter": "python",
   "pygments_lexer": "ipython3",
   "version": "3.9.18"
  },
  "orig_nbformat": 4
 },
 "nbformat": 4,
 "nbformat_minor": 2
}
